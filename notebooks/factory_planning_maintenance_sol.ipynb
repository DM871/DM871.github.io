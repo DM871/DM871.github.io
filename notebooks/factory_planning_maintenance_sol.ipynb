{
 "cells": [
  {
   "cell_type": "markdown",
   "metadata": {
    "id": "tb5_gVvoYkm7"
   },
   "source": [
    "[![Open In Colab](https://colab.research.google.com/assets/colab-badge.svg)](https://colab.research.google.com/github/DM871/dm871.github.io/blob/main/notebooks/factory_planning_maintenance_sol.ipynb)"
   ]
  },
  {
   "cell_type": "markdown",
   "metadata": {
    "id": "8G9puXLoYkm8"
   },
   "source": [
    "# Factory Planning and Machine Maintenance\n",
    "\n",
    "A firm makes seven products $1,\\ldots,7$ on the following machines: 4\n",
    "grinders, 2 vertical drills, 3 horizontal drills, 1 borer, and 1 planer.\n",
    "\n",
    "Each product yields a certain contribution to the profit (defined as\n",
    "selling price minus cost of raw materials expressed in Euro/unit). These\n",
    "quantities (in Euro/unit) together with the production times\n",
    "(hours/unit) required on each process are given below.\n",
    "\n",
    "     product     1      2      3      4      5      6     7\n",
    "     profit      10     6      8      4      11     9     3\n",
    "     grinding    0.5    0.7    0      0      0.3    0.2   0.5\n",
    "     vdrill      0.1    0.2    0      0.3    0      0.6   0\n",
    "     hdrill      0.2    0      0.8    0      0      0     0.6\n",
    "     boring      0.05   0.03   0      0.07   0.1    0     0.08\n",
    "     planning    0      0      0.01   0      0.05   0     0.05\n",
    "\n",
    "\n",
    "In the first month (January) and the five subsequent months certain\n",
    "machines will be down for maintenance. These machines will be:\n",
    "\n",
    "     January   1 grinder\n",
    "     February  2 hdrill\n",
    "     March     1 borer\n",
    "     April     1 vdrill\n",
    "     May       1 grinder\n",
    "     May       1 vdrill\n",
    "     June      1 planer\n",
    "     June      1 hdrill\n",
    "\n",
    "\n",
    "There are marketing limitations on each product in each month. That is,\n",
    "in each month the amount sold for each product cannot exceed these\n",
    "values:\n",
    "\n",
    "     product    1     2      3     4     5      6     7\n",
    "     January    500   1000   300   300   800    200   100\n",
    "     February   600   500    200   0     400    300   150\n",
    "     March      300   600    0     0     500    400   100\n",
    "     April      200   300    400   500   200    0     100\n",
    "     May        0     100    500   100   1000   300   0\n",
    "     June       500   500    100   300   1100   500   60\n",
    "\n",
    "\n",
    "It is possible to store products in a warehouse. The capacity of the\n",
    "storage is 100 units per product type per month. The cost is 0.5 Euro\n",
    "per unit of product per months. There are no stocks in the first month\n",
    "but it is desired to have a stock of 50 of each product type at the end\n",
    "of June.\n",
    "\n",
    "The factory works 6 days a week with two shifts of 8 hours each day. (It\n",
    "can be assumed that each month consists of 24 working days.)\n",
    "\n",
    "The factory wants to determine a production plan, that is, the quantity\n",
    "to produce, sell and store in each month for each product, that\n",
    "maximizes the total profit.\n",
    "\n"
   ]
  },
  {
   "cell_type": "markdown",
   "metadata": {
    "id": "rzf_H7AJYkm8"
   },
   "source": [
    "## Task 1\n",
    "\n",
    "Model the factory planning problem for the month of January as an LP\n",
    "problem."
   ]
  },
  {
   "cell_type": "markdown",
   "metadata": {
    "id": "Zv3s7Lt0Ykm9"
   },
   "source": [
    "## Task 2\n",
    "\n",
    "Model the multi-period (from January to June) factory planning problem\n",
    "as an LP problem. Use mathematical notation and indicate in general\n",
    "terms how many variables and how many constraints your model has.\n",
    "\n",
    "- How many variables and how many constraints do we have in the  model in terms of number of products and planning months?\n",
    "- What is the structure of the matrix generated for the model?\n"
   ]
  },
  {
   "cell_type": "markdown",
   "metadata": {
    "id": "BQm8StmMYkm9"
   },
   "source": [
    "## Task 3\n",
    "\n",
    "Implement the single-period model (Task 1) in a SpreadSheet.\n",
    "Implement the multi-period model (Task 2) in Python and Gurobi. Solve\n",
    "the problem on the data given.\n",
    "\n",
    "- Report and comment relevant information from the execution of the solver.\n",
    "- Report the production plan, that is, how much of each product should the factory produce in the months.\n",
    "- Indicate which resource capacity could be convinient to increase in some months and the impact that such increase would have on the total profit.\n",
    "- Indicate which change in price could make appealing producing a product that is not in production in a certain month.\n",
    "\n",
    "Here are the data of the problem:\n"
   ]
  },
  {
   "cell_type": "code",
   "execution_count": 1,
   "metadata": {
    "execution": {
     "iopub.execute_input": "2024-12-15T13:32:19.195124Z",
     "iopub.status.busy": "2024-12-15T13:32:19.194897Z",
     "iopub.status.idle": "2024-12-15T13:32:19.203234Z",
     "shell.execute_reply": "2024-12-15T13:32:19.202955Z"
    },
    "id": "P1VhsdVqYkm-"
   },
   "outputs": [],
   "source": [
    "from collections import OrderedDict\n",
    "\n",
    "class Data:\n",
    "    def __init__(self):\n",
    "        self.products = [1, 2, 3, 4, 5, 6, 7];\n",
    "        self.machines = [\"grinder\",\"vdrill\",\"hdrill\",\"borer\",\"planer\"]\n",
    "        self.months = [\"january\",\"february\",\"march\",\"april\",\"may\",\"june\"]\n",
    "\n",
    "        self.profits = [10, 6, 8, 4, 11, 9, 3]\n",
    "\n",
    "        tmp = {\n",
    "        'grinder'     :[0.5,    0.7,    0,      0,      0.3,    0.2,   0.5],\n",
    "        'vdrill'      :[0.1 ,   0.2 ,   0   ,   0.3 ,   0   ,   0.6,   0],\n",
    "        'hdrill'      :[0.2 ,   0   ,   0.8 ,   0   ,   0   ,   0  ,   0.6],\n",
    "        'borer'      :[0.05,   0.03,   0   ,   0.07,   0.1 ,   0  ,   0.08],\n",
    "        'planer'    :[0   ,   0   ,   0.01,   0   ,   0.05,   0  ,   0.05]\n",
    "        }\n",
    "        self.coeff=OrderedDict()\n",
    "        for m in self.machines:\n",
    "            for (j,p) in enumerate(self.products):\n",
    "                self.coeff[m,p] = tmp[m][j]\n",
    "\n",
    "        self.capacity = {\"grinder\": 4,\"vdrill\": 2,\"hdrill\": 3, \"borer\": 1, \"planer\": 1}\n",
    "\n",
    "        tmp = {\n",
    "        \"grinder\": [(\"january\", 1), (\"may\", 1)],\n",
    "        \"hdrill\": [(\"february\", 2),(\"june\", 1)],\n",
    "        \"borer\":  [(\"march\", 1)],\n",
    "        \"vdrill\": [(\"april\", 1),(\"may\", 1)],\n",
    "        \"planer\": [(\"june\", 1)]\n",
    "        }\n",
    "\n",
    "\n",
    "        self.maintainance = OrderedDict()\n",
    "        for m in self.machines:\n",
    "            for t in self.months:\n",
    "                self.maintainance[m,t] = 0\n",
    "            if m in tmp:\n",
    "                for s in tmp[m]:\n",
    "                    self.maintainance[m,s[0]]=s[1]\n",
    "\n",
    "        tmp = {\n",
    "        \"january\":    [500   ,1000   ,300   ,300   ,800    ,200   ,100],\n",
    "        \"february\":   [600   ,500    ,200   ,0     ,400    ,300   ,150],\n",
    "        \"march\":      [300   ,600    ,0     ,0     ,500    ,400   ,100],\n",
    "        \"april\":      [200   ,300    ,400   ,500   ,200    ,0     ,100],\n",
    "        \"may\":        [0     ,100    ,500   ,100   ,1000   ,300   ,0  ],\n",
    "        \"june\":       [500   ,500    ,100   ,300   ,1100   ,500   ,60 ]\n",
    "        }\n",
    "\n",
    "        self.market_limits = OrderedDict()\n",
    "        for m in self.months:\n",
    "            for (j,p) in enumerate(self.products):\n",
    "                self.market_limits[m,p] = tmp[m][j]\n",
    "\n",
    "    def printData(self):\n",
    "        print(\"Months:\", self.months)\n",
    "        print(\"Products:\", self.products)\n",
    "        print(\"Machines:\", self.machines)\n",
    "        print(\"Coefficients: \",self.coeff)\n",
    "        print(\"Market_limits:\", self.market_limits)\n",
    "        print(\"Maitainance:\", self.maintainance)"
   ]
  },
  {
   "cell_type": "code",
   "execution_count": 2,
   "metadata": {
    "colab": {
     "base_uri": "https://localhost:8080/"
    },
    "execution": {
     "iopub.execute_input": "2024-12-15T13:32:19.204576Z",
     "iopub.status.busy": "2024-12-15T13:32:19.204485Z",
     "iopub.status.idle": "2024-12-15T13:32:19.206489Z",
     "shell.execute_reply": "2024-12-15T13:32:19.206246Z"
    },
    "id": "fFR5gqfnYkm-",
    "outputId": "9ebd3b8b-f743-4a36-eff1-169b1ea369a8"
   },
   "outputs": [
    {
     "name": "stdout",
     "output_type": "stream",
     "text": [
      "Months: ['january', 'february', 'march', 'april', 'may', 'june']\n",
      "Products: [1, 2, 3, 4, 5, 6, 7]\n",
      "Machines: ['grinder', 'vdrill', 'hdrill', 'borer', 'planer']\n",
      "Coefficients:  OrderedDict([(('grinder', 1), 0.5), (('grinder', 2), 0.7), (('grinder', 3), 0), (('grinder', 4), 0), (('grinder', 5), 0.3), (('grinder', 6), 0.2), (('grinder', 7), 0.5), (('vdrill', 1), 0.1), (('vdrill', 2), 0.2), (('vdrill', 3), 0), (('vdrill', 4), 0.3), (('vdrill', 5), 0), (('vdrill', 6), 0.6), (('vdrill', 7), 0), (('hdrill', 1), 0.2), (('hdrill', 2), 0), (('hdrill', 3), 0.8), (('hdrill', 4), 0), (('hdrill', 5), 0), (('hdrill', 6), 0), (('hdrill', 7), 0.6), (('borer', 1), 0.05), (('borer', 2), 0.03), (('borer', 3), 0), (('borer', 4), 0.07), (('borer', 5), 0.1), (('borer', 6), 0), (('borer', 7), 0.08), (('planer', 1), 0), (('planer', 2), 0), (('planer', 3), 0.01), (('planer', 4), 0), (('planer', 5), 0.05), (('planer', 6), 0), (('planer', 7), 0.05)])\n",
      "Market_limits: OrderedDict([(('january', 1), 500), (('january', 2), 1000), (('january', 3), 300), (('january', 4), 300), (('january', 5), 800), (('january', 6), 200), (('january', 7), 100), (('february', 1), 600), (('february', 2), 500), (('february', 3), 200), (('february', 4), 0), (('february', 5), 400), (('february', 6), 300), (('february', 7), 150), (('march', 1), 300), (('march', 2), 600), (('march', 3), 0), (('march', 4), 0), (('march', 5), 500), (('march', 6), 400), (('march', 7), 100), (('april', 1), 200), (('april', 2), 300), (('april', 3), 400), (('april', 4), 500), (('april', 5), 200), (('april', 6), 0), (('april', 7), 100), (('may', 1), 0), (('may', 2), 100), (('may', 3), 500), (('may', 4), 100), (('may', 5), 1000), (('may', 6), 300), (('may', 7), 0), (('june', 1), 500), (('june', 2), 500), (('june', 3), 100), (('june', 4), 300), (('june', 5), 1100), (('june', 6), 500), (('june', 7), 60)])\n",
      "Maitainance: OrderedDict([(('grinder', 'january'), 1), (('grinder', 'february'), 0), (('grinder', 'march'), 0), (('grinder', 'april'), 0), (('grinder', 'may'), 1), (('grinder', 'june'), 0), (('vdrill', 'january'), 0), (('vdrill', 'february'), 0), (('vdrill', 'march'), 0), (('vdrill', 'april'), 1), (('vdrill', 'may'), 1), (('vdrill', 'june'), 0), (('hdrill', 'january'), 0), (('hdrill', 'february'), 2), (('hdrill', 'march'), 0), (('hdrill', 'april'), 0), (('hdrill', 'may'), 0), (('hdrill', 'june'), 1), (('borer', 'january'), 0), (('borer', 'february'), 0), (('borer', 'march'), 1), (('borer', 'april'), 0), (('borer', 'may'), 0), (('borer', 'june'), 0), (('planer', 'january'), 0), (('planer', 'february'), 0), (('planer', 'march'), 0), (('planer', 'april'), 0), (('planer', 'may'), 0), (('planer', 'june'), 1)])\n"
     ]
    }
   ],
   "source": [
    "data = Data()\n",
    "data.printData()"
   ]
  },
  {
   "cell_type": "code",
   "execution_count": 3,
   "metadata": {
    "execution": {
     "iopub.execute_input": "2024-12-15T13:32:19.223927Z",
     "iopub.status.busy": "2024-12-15T13:32:19.223791Z",
     "iopub.status.idle": "2024-12-15T13:32:19.339432Z",
     "shell.execute_reply": "2024-12-15T13:32:19.339081Z"
    },
    "id": "nLbAoPPqb3Z_"
   },
   "outputs": [
    {
     "name": "stdout",
     "output_type": "stream",
     "text": [
      "zsh:1: 12 not found\r\n"
     ]
    }
   ],
   "source": [
    "# Install a pip package in the current Jupyter kernel\n",
    "import sys\n",
    "!{sys.executable} -m pip install gurobipy>=12 # note: use python version <=3.12.7."
   ]
  },
  {
   "cell_type": "code",
   "execution_count": 4,
   "metadata": {
    "execution": {
     "iopub.execute_input": "2024-12-15T13:32:19.341236Z",
     "iopub.status.busy": "2024-12-15T13:32:19.341130Z",
     "iopub.status.idle": "2024-12-15T13:32:19.348096Z",
     "shell.execute_reply": "2024-12-15T13:32:19.347584Z"
    },
    "id": "Ar90iBVBYkm-"
   },
   "outputs": [],
   "source": [
    "import gurobipy as gp\n",
    "from gurobipy import GRB"
   ]
  },
  {
   "cell_type": "code",
   "execution_count": 5,
   "metadata": {
    "colab": {
     "base_uri": "https://localhost:8080/"
    },
    "execution": {
     "iopub.execute_input": "2024-12-15T13:32:19.350474Z",
     "iopub.status.busy": "2024-12-15T13:32:19.350277Z",
     "iopub.status.idle": "2024-12-15T13:32:19.386053Z",
     "shell.execute_reply": "2024-12-15T13:32:19.385645Z"
    },
    "id": "81CN-IVyYkm_",
    "outputId": "1fc555e2-9ebb-4226-ad40-eb81d74bf662"
   },
   "outputs": [
    {
     "name": "stdout",
     "output_type": "stream",
     "text": [
      "Set parameter Username\n",
      "Set parameter LicenseID to value 2599106\n",
      "Academic license - for non-commercial use only - expires 2025-12-13\n",
      "Set parameter Method to value 0\n",
      "Warning: linear constraint 0 and linear constraint 1 have the same name \"cap_grinder\"\n",
      "Gurobi Optimizer version 10.0.1 build v10.0.1rc0 (mac64[arm])\n",
      "\n",
      "CPU model: Apple M1 Max\n",
      "Thread count: 10 physical cores, 10 logical processors, using up to 10 threads\n",
      "\n",
      "Optimize a model with 121 rows, 126 columns and 330 nonzeros\n",
      "Model fingerprint: 0xace1d00f\n",
      "Coefficient statistics:\n",
      "  Matrix range     [1e-02, 1e+00]\n",
      "  Objective range  [5e-01, 1e+01]\n",
      "  Bounds range     [1e+02, 1e+02]\n",
      "  RHS range        [5e+01, 2e+03]\n",
      "Presolve removed 116 rows and 110 columns\n",
      "Presolve time: 0.00s\n",
      "Presolved: 5 rows, 16 columns, 21 nonzeros\n",
      "\n",
      "Iteration    Objective       Primal Inf.    Dual Inf.      Time\n",
      "       0    8.0175000e+04   0.000000e+00   3.340000e+02      0s\n",
      "Extra simplex iterations after uncrush: 2\n",
      "      12    9.3715179e+04   0.000000e+00   0.000000e+00      0s\n",
      "\n",
      "Solved in 12 iterations and 0.00 seconds (0.00 work units)\n",
      "Optimal objective  9.371517857e+04\n"
     ]
    }
   ],
   "source": [
    "m = gp.Model(\"fpmm\")\n",
    "m.setParam(GRB.param.Method, 0)\n",
    "\n",
    "x={}\n",
    "for i in data.products:\n",
    "    for (t_int, t_string) in enumerate(data.months):\n",
    "        x[i,t_int]=m.addVar(lb=0.0,ub=GRB.INFINITY,obj=0.0,vtype=GRB.CONTINUOUS,name=\"x_%s_%s\" % (i,t_int))\n",
    "\n",
    "s={}\n",
    "for i in data.products:\n",
    "    for (t_int, t_string) in enumerate(data.months):\n",
    "        s[i,t_int]=m.addVar(lb=0.0,ub=GRB.INFINITY,obj=0.0,vtype=GRB.CONTINUOUS,name=\"s_%s_%s\" % (i,t_int))\n",
    "\n",
    "h={}\n",
    "for i in data.products:\n",
    "    for (t_int, t_string) in enumerate(data.months):\n",
    "        h[i,t_int]=m.addVar(lb=0.0,ub=100,obj=0.0,vtype=GRB.CONTINUOUS,name=\"h_%s_%s\" % (i,t_int))\n",
    "\n",
    "\n",
    "m.setObjective(gp.quicksum(data.profits[i0]*s[i1,t_int]-0.5*h[i1,t_int]\n",
    "                        for (i0,i1) in enumerate(data.products)\n",
    "                        for (t_int,t_string) in enumerate(data.months)),\n",
    "                GRB.MAXIMIZE)\n",
    "\n",
    "# machine capacities\n",
    "c={}\n",
    "for j in data.machines:\n",
    "    for (t_int, t_string) in enumerate(data.months):\n",
    "        c[j,t_string]=m.addConstr(gp.quicksum(data.coeff[j,i]*x[i,t_int] for i in data.products) <= 384*(data.capacity[j]-data.maintainance[j,t_string]),\"cap_%s\" % j)\n",
    "\n",
    "# mass balance\n",
    "for i in data.products:\n",
    "    for (t_int, t_string) in enumerate(data.months):\n",
    "        if t_int==0:\n",
    "            m.addConstr(x[i,t_int]==s[i,t_int]+h[i,t_int],\"bal0_%s_%s\" % (i,t_int))\n",
    "        else:\n",
    "            m.addConstr(h[i,t_int-1]+x[i,t_int]==s[i,t_int]+h[i,t_int],\"bal_%s_%s\" % (i,t_int))\n",
    "\n",
    "for i in data.products:\n",
    "    for (t_int, t_string) in enumerate(data.months):\n",
    "        m.addConstr(s[i,t_int]<=data.market_limits[t_string, i],\"market_limits_%s_%s\" % (i,t_int) )\n",
    "\n",
    "for i in data.products:\n",
    "    m.addConstr(h[i,5]>=50)\n",
    "\n",
    "m.write(\"model.lp\")\n",
    "m.optimize()\n"
   ]
  },
  {
   "cell_type": "code",
   "execution_count": 6,
   "metadata": {
    "execution": {
     "iopub.execute_input": "2024-12-15T13:32:19.389073Z",
     "iopub.status.busy": "2024-12-15T13:32:19.388926Z",
     "iopub.status.idle": "2024-12-15T13:32:19.396042Z",
     "shell.execute_reply": "2024-12-15T13:32:19.395738Z"
    },
    "id": "KjKPFNnvYkm_"
   },
   "outputs": [
    {
     "name": "stdout",
     "output_type": "stream",
     "text": [
      "x[i,t]=\n",
      "\t      january     february        march        april          may         june\n",
      "1\t        500.0        700.0          0.0        200.0          0.0        550.0\n",
      "2\t888.5714285714287        600.0          0.0        300.0        100.0        550.0\n",
      "3\t        382.5        117.5          0.0        400.0        600.0          0.0\n",
      "4\t        300.0          0.0          0.0        500.0        100.0        350.0\n",
      "5\t        800.0        500.0          0.0        200.0       1100.0          0.0\n",
      "6\t        200.0        300.0        400.0          0.0        300.0        550.0\n",
      "7\t          0.0        250.0          0.0        100.0        100.0          0.0\n",
      "\n",
      "s[i,t]=\n",
      "\t      january     february        march        april          may         june\n",
      "1\t        500.0        600.0        100.0        200.0          0.0        500.0\n",
      "2\t888.5714285714286        500.0        100.0        300.0        100.0        500.0\n",
      "3\t        300.0        200.0          0.0        400.0        500.0         50.0\n",
      "4\t        300.0          0.0          0.0        500.0        100.0        300.0\n",
      "5\t        800.0        400.0        100.0        200.0       1000.0         50.0\n",
      "6\t        200.0        300.0        400.0          0.0        300.0        500.0\n",
      "7\t          0.0        150.0        100.0        100.0          0.0         50.0\n",
      "\n",
      "h[i,t]=\n",
      "\t      january     february        march        april          may         june\n",
      "1\t          0.0        100.0          0.0          0.0          0.0         50.0\n",
      "2\t          0.0        100.0          0.0          0.0          0.0         50.0\n",
      "3\t         82.5          0.0          0.0          0.0        100.0         50.0\n",
      "4\t          0.0          0.0          0.0          0.0          0.0         50.0\n",
      "5\t          0.0        100.0          0.0          0.0        100.0         50.0\n",
      "6\t          0.0          0.0          0.0          0.0          0.0         50.0\n",
      "7\t          0.0        100.0          0.0          0.0        100.0         50.0\n",
      "\n",
      "s[i,t].rc= (reduced costs)\n",
      "\t      january     february        march        april          may         june\n",
      "1\t          0.0          0.0          0.0          0.0          0.0          0.0\n",
      "2\t          0.0          0.0          0.0          0.0          0.0          0.0\n",
      "3\t          0.0          0.0          0.0          0.0          0.0          0.0\n",
      "4\t          0.0          0.0          0.0          0.0          0.0          0.0\n",
      "5\t          0.0          0.0          0.0          0.0          0.0          0.0\n",
      "6\t          0.0          0.0          0.0          0.0          0.0          0.0\n",
      "7\t-1.2857142857142856          0.0          0.0          0.0          0.0          0.0\n",
      "\n",
      "c[i,t]= (marginal values)\n",
      "\t      january     february        march        april          may         june\n",
      "grinder\t8.571428571428571          0.0          0.0          0.0          0.0          0.0\n",
      "vdrill\t          0.0          0.0          0.0          0.0          0.0          0.0\n",
      "hdrill\t          0.0        0.625          0.0          0.0          0.0          0.0\n",
      "borer\t          0.0          0.0        200.0          0.0          0.0          0.0\n",
      "planer\t          0.0          0.0          0.0          0.0          0.0        800.0\n"
     ]
    }
   ],
   "source": [
    "def printSolution():\n",
    "    print(\"x[i,t]=\")\n",
    "    sss=\"\\t\"\n",
    "    for (t_int, t_string) in enumerate(data.months):\n",
    "        sss+=\"{0:>{width}}\".format(t_string,width=13)\n",
    "    print(sss)\n",
    "    for i in data.products:\n",
    "        sss=str(i)+\"\\t\"\n",
    "        for (t_int, t_string) in enumerate(data.months):\n",
    "            sss+=\"{0:>{width}}\".format(str(x[i,t_int].x),width=13)\n",
    "        print(sss)\n",
    "\n",
    "    print(\"\\ns[i,t]=\")\n",
    "    sss=\"\\t\"\n",
    "    for (t_int, t_string) in enumerate(data.months):\n",
    "        sss+=\"{0:>{width}}\".format(t_string,width=13)\n",
    "    print(sss)\n",
    "    for i in data.products:\n",
    "        sss=str(i)+\"\\t\"\n",
    "        for (t_int, t_string) in enumerate(data.months):\n",
    "            sss+=\"{0:>{width}}\".format(str(s[i,t_int].x),width=13)\n",
    "        print(sss)\n",
    "\n",
    "    print(\"\\nh[i,t]=\")\n",
    "    sss=\"\\t\"\n",
    "    for (t_int, t_string) in enumerate(data.months):\n",
    "        sss+=\"{0:>{width}}\".format(t_string,width=13)\n",
    "    print(sss)\n",
    "    for i in data.products:\n",
    "        sss=str(i)+\"\\t\"\n",
    "        for (t_int, t_string) in enumerate(data.months):\n",
    "            sss+=\"{0:>{width}}\".format(str(h[i,t_int].x),width=13)\n",
    "        print(sss)\n",
    "\n",
    "    print(\"\\ns[i,t].rc= (reduced costs)\")\n",
    "    sss=\"\\t\"\n",
    "    for (t_int, t_string) in enumerate(data.months):\n",
    "        sss+=\"{0:>{width}}\".format(t_string,width=13)\n",
    "    print(sss)\n",
    "    for i in data.products:\n",
    "        sss=str(i)+\"\\t\"\n",
    "        for (t_int, t_string) in enumerate(data.months):\n",
    "            sss+=\"{0:>{width}}\".format(str(s[i,t_int].rc),width=13)\n",
    "        print(sss)\n",
    "\n",
    "    print(\"\\nc[i,t]= (marginal values)\")\n",
    "    sss=\"\\t\"\n",
    "    for (t_int, t_string) in enumerate(data.months):\n",
    "        sss+=\"{0:>{width}}\".format(t_string,width=13)\n",
    "    print(sss)\n",
    "    for j in data.machines:\n",
    "        sss=str(j)+\"\\t\"\n",
    "        for (t_int, t_string) in enumerate(data.months):\n",
    "            sss+=\"{0:>{width}}\".format(str(c[j,t_string].pi),width=13)\n",
    "        print(sss)\n",
    "\n",
    "printSolution()"
   ]
  },
  {
   "cell_type": "markdown",
   "metadata": {
    "id": "G5UtPeGFYkm_"
   },
   "source": [
    "## Task 4\n",
    "\n",
    "Here, instead of stipulating when each machine is down for maintenance, it is\n",
    "desired to find the best month for each machine to be down.\n",
    "\n",
    "Each machine must be down for maintenance in one month of the six\n",
    "apart from the grinding machines, only two of which need to be down in any\n",
    "six months.\n",
    "\n",
    "Extend the model that correctly addressed tasks 2 and 3 to allow it to make these extra decisions.\n",
    "\n",
    "- How many variables did you need to add? What is the domain of these\n",
    "  variables?\n",
    "\n",
    "- Has the matrix of the problem a similar structure to the one\n",
    "  of the point above?\n",
    "\n",
    "- Is the solution from Task 3 a valid solution to this problem?\n",
    "  What information can it bear in this new case?\n",
    "\n",
    "- Implement and solve the model in Python and Gurobi. After how many\n",
    "  nodes in the branch and bound tree is the optimal solution found? And\n",
    "  after how many is it proven optimal?\n",
    "\n",
    "- How much worth is the extra flexibility of choosing when to place\n",
    "  downtimes?\n",
    "\n",
    "- The column ``LP iter'' indicates the number of simplex iterations for solving the LP problem. Why is this number increasing through the search?\n",
    "\n",
    "- Can you devise another model and compare them computationally?  Which is best? Why?"
   ]
  }
 ],
 "metadata": {
  "colab": {
   "provenance": []
  },
  "kernelspec": {
   "display_name": "Python 3",
   "language": "python",
   "name": "python3"
  },
  "language_info": {
   "codemirror_mode": {
    "name": "ipython",
    "version": 3
   },
   "file_extension": ".py",
   "mimetype": "text/x-python",
   "name": "python",
   "nbconvert_exporter": "python",
   "pygments_lexer": "ipython3",
   "version": "3.10.2"
  }
 },
 "nbformat": 4,
 "nbformat_minor": 0
}
